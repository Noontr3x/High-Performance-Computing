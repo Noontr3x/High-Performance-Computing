{
  "nbformat": 4,
  "nbformat_minor": 0,
  "metadata": {
    "colab": {
      "provenance": [],
      "gpuType": "T4"
    },
    "kernelspec": {
      "name": "python3",
      "display_name": "Python 3"
    },
    "language_info": {
      "name": "python"
    },
    "accelerator": "GPU"
  },
  "cells": [
    {
      "cell_type": "markdown",
      "source": [
        "Вершинное покрытие. Дано множество городов С и дорог между ними. Определить, существует ли такое подмножество С, включающее не более K городов, что для любой существующей дороги город из этого подмножества является либо ее началом, либо концом."
      ],
      "metadata": {
        "id": "UGe4qEg5P0gI"
      }
    },
    {
      "cell_type": "markdown",
      "source": [
        "CPU"
      ],
      "metadata": {
        "id": "GNr26y9QGF3Z"
      }
    },
    {
      "cell_type": "code",
      "source": [
        "import time\n",
        "\n",
        "def read_cities_and_roads(filename):\n",
        "    cities = set()\n",
        "    roads = []\n",
        "\n",
        "    with open(filename, 'r') as file:\n",
        "        for line in file:\n",
        "            line = line.strip()\n",
        "            if not line or line.startswith('#'):\n",
        "                continue\n",
        "\n",
        "            if line.isalpha():\n",
        "                cities.add(line)\n",
        "            else:\n",
        "                road = tuple(line.split())\n",
        "                roads.append(road)\n",
        "\n",
        "    return cities, roads\n",
        "\n",
        "def is_subset_of_cities(roads, k, cities):\n",
        "    city_set = set(cities)\n",
        "    if k == 0:\n",
        "        return False\n",
        "    count = 0\n",
        "    for road in roads:\n",
        "        if road[0] in city_set or road[1] in city_set:\n",
        "            count += 1\n",
        "    return count >= k\n",
        "\n",
        "filename = \"test.txt\"\n",
        "\n",
        "start_time = time.time()\n",
        "\n",
        "cities, roads = read_cities_and_roads(filename)\n",
        "\n",
        "end_time = time.time()\n",
        "execution_time_read = end_time - start_time\n",
        "\n",
        "\n",
        "k = 1\n",
        "\n",
        "start_time = time.time()\n",
        "\n",
        "result = is_subset_of_cities(roads, k, cities)\n",
        "\n",
        "end_time = time.time()\n",
        "execution_time_check = end_time - start_time\n",
        "\n",
        "if result:\n",
        "    print(f\"При k = {k}:\")\n",
        "    print(\"Подмножество городов:\", cities)\n",
        "    print(\"Дороги, которые содержат города из этого подмножества:\")\n",
        "    for road in roads:\n",
        "        if road[0] in cities and road[1] in cities:\n",
        "            print(f\"{road[0]} -> {road[1]}\")\n",
        "else:\n",
        "    print(f\"При k = {k}:\")\n",
        "    print(\"Не существует такого подмножества городов,\")\n",
        "    print(\"что каждая дорога содержит хотя бы один из этих городов.\")\n",
        "\n",
        "print(\"Время затраченное на чтение данных:\", execution_time_read, \"секунд\")\n",
        "print(\"Время затраченное на проверку:\", execution_time_check, \"секунд\")\n",
        "\n"
      ],
      "metadata": {
        "colab": {
          "base_uri": "https://localhost:8080/"
        },
        "id": "udpor2kbGDMl",
        "outputId": "e33336b3-c0b0-4fc0-f892-bb9e2384f4b6"
      },
      "execution_count": 12,
      "outputs": [
        {
          "output_type": "stream",
          "name": "stdout",
          "text": [
            "При k = 1:\n",
            "Подмножество городов: {'F', 'B', 'C', 'M', 'I', 'R', 'Q', 'N', 'P', 'G', 'T', 'A', 'L', 'E', 'S', 'D', 'H', 'J', 'K', 'O'}\n",
            "Дороги, которые содержат города из этого подмножества:\n",
            "A -> B\n",
            "B -> C\n",
            "C -> D\n",
            "A -> D\n",
            "E -> F\n",
            "F -> G\n",
            "G -> H\n",
            "H -> I\n",
            "I -> J\n",
            "K -> L\n",
            "L -> M\n",
            "M -> N\n",
            "O -> P\n",
            "P -> Q\n",
            "Q -> R\n",
            "R -> S\n",
            "S -> T\n",
            "B -> H\n",
            "C -> L\n",
            "Время затраченное на чтение данных: 0.0011415481567382812 секунд\n",
            "Время затраченное на проверку: 0.00011205673217773438 секунд\n"
          ]
        }
      ]
    },
    {
      "cell_type": "markdown",
      "source": [
        "GPU"
      ],
      "metadata": {
        "id": "ozq8yCF9GEFt"
      }
    },
    {
      "cell_type": "code",
      "source": [
        "import time\n",
        "import multiprocessing\n",
        "\n",
        "def read_cities_and_roads(filename):\n",
        "    cities = set()\n",
        "    roads = []\n",
        "\n",
        "    with open(filename, 'r') as file:\n",
        "        for line in file:\n",
        "            line = line.strip()\n",
        "            if not line or line.startswith('#'):\n",
        "                continue\n",
        "\n",
        "            if line.isalpha():\n",
        "                cities.add(line)\n",
        "            else:\n",
        "                road = tuple(line.split())\n",
        "                roads.append(road)\n",
        "\n",
        "    return cities, roads\n",
        "\n",
        "def is_subset_of_cities(roads, k, cities):\n",
        "    city_set = set(cities)\n",
        "    if k == 0:\n",
        "        return False\n",
        "    count = 0\n",
        "    for road in roads:\n",
        "        if road[0] in city_set or road[1] in city_set:\n",
        "            count += 1\n",
        "    return count >= k\n",
        "\n",
        "def print_city_roads_info(cities, roads):\n",
        "    print(f\"Подмножество городов: {cities}\")\n",
        "    print(\"Дороги, которые содержат города из этого подмножества:\")\n",
        "    for road in roads:\n",
        "        if road[0] in cities and road[1] in cities:\n",
        "            print(f\"{road[0]} -> {road[1]}\")\n",
        "\n",
        "def read_and_process(filename, result_dict):\n",
        "    cities, roads = read_cities_and_roads(filename)\n",
        "    result = is_subset_of_cities(roads, 1, cities)\n",
        "    result_dict[filename] = (result, cities, roads)\n",
        "\n",
        "filename = \"test.txt\"\n",
        "result_dict = multiprocessing.Manager().dict()\n",
        "\n",
        "# Измерение времени выполнения чтения данных\n",
        "start_time = time.time()\n",
        "p1 = multiprocessing.Process(target=read_and_process, args=(filename, result_dict))\n",
        "p1.start()\n",
        "p1.join()\n",
        "end_time = time.time()\n",
        "execution_time_read = end_time - start_time\n",
        "\n",
        "result, cities, roads = result_dict[filename]\n",
        "\n",
        "if result:\n",
        "    print(f\"При k = {1}:\")\n",
        "    print_city_roads_info(cities, roads)\n",
        "else:\n",
        "    print(f\"При k = {1}:\")\n",
        "    print(\"Не существует такого подмножества городов,\")\n",
        "    print(\"что каждая дорога содержит хотя бы один из этих городов.\")\n",
        "\n",
        "print(\"Время затраченное на чтение данных:\", execution_time_read, \"секунд\")\n",
        "print(\"Время затраченное на проверку:\", execution_time_check, \"секунд\")\n"
      ],
      "metadata": {
        "colab": {
          "base_uri": "https://localhost:8080/"
        },
        "id": "Vs7-1ZUmFZn_",
        "outputId": "f1c7983f-aabf-41ab-bedc-1a46033423db"
      },
      "execution_count": 13,
      "outputs": [
        {
          "output_type": "stream",
          "name": "stdout",
          "text": [
            "При k = 1:\n",
            "Подмножество городов: {'F', 'B', 'C', 'M', 'I', 'R', 'Q', 'N', 'P', 'G', 'T', 'A', 'L', 'E', 'S', 'D', 'H', 'J', 'K', 'O'}\n",
            "Дороги, которые содержат города из этого подмножества:\n",
            "A -> B\n",
            "B -> C\n",
            "C -> D\n",
            "A -> D\n",
            "E -> F\n",
            "F -> G\n",
            "G -> H\n",
            "H -> I\n",
            "I -> J\n",
            "K -> L\n",
            "L -> M\n",
            "M -> N\n",
            "O -> P\n",
            "P -> Q\n",
            "Q -> R\n",
            "R -> S\n",
            "S -> T\n",
            "B -> H\n",
            "C -> L\n",
            "Время затраченное на чтение данных: 0.013872861862182617 секунд\n",
            "Время затраченное на проверку: 0.00011205673217773438 секунд\n"
          ]
        }
      ]
    },
    {
      "cell_type": "code",
      "source": [],
      "metadata": {
        "id": "hnWxwGQ0PIR_"
      },
      "execution_count": null,
      "outputs": []
    }
  ]
}